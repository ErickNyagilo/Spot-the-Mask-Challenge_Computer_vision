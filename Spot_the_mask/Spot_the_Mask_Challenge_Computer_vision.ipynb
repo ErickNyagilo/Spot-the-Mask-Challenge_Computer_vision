{
  "nbformat": 4,
  "nbformat_minor": 0,
  "metadata": {
    "colab": {
      "name": "Spot the Mask Challenge_Computer_vision.ipynb",
      "provenance": [],
      "collapsed_sections": []
    },
    "kernelspec": {
      "name": "python3",
      "display_name": "Python 3"
    },
    "widgets": {
      "application/vnd.jupyter.widget-state+json": {
        "3efd4ed4ad6b48b5843d9b4d111d83e6": {
          "model_module": "@jupyter-widgets/controls",
          "model_name": "HBoxModel",
          "state": {
            "_view_name": "HBoxView",
            "_dom_classes": [],
            "_model_name": "HBoxModel",
            "_view_module": "@jupyter-widgets/controls",
            "_model_module_version": "1.5.0",
            "_view_count": null,
            "_view_module_version": "1.5.0",
            "box_style": "",
            "layout": "IPY_MODEL_eff3d338dfc546cb9a50aa1b5c7ec8e9",
            "_model_module": "@jupyter-widgets/controls",
            "children": [
              "IPY_MODEL_e91f4ce863564cfe83177433aed273d8",
              "IPY_MODEL_3389e0b92b6d41e48d6e376a61a40562"
            ]
          }
        },
        "eff3d338dfc546cb9a50aa1b5c7ec8e9": {
          "model_module": "@jupyter-widgets/base",
          "model_name": "LayoutModel",
          "state": {
            "_view_name": "LayoutView",
            "grid_template_rows": null,
            "right": null,
            "justify_content": null,
            "_view_module": "@jupyter-widgets/base",
            "overflow": null,
            "_model_module_version": "1.2.0",
            "_view_count": null,
            "flex_flow": null,
            "width": null,
            "min_width": null,
            "border": null,
            "align_items": null,
            "bottom": null,
            "_model_module": "@jupyter-widgets/base",
            "top": null,
            "grid_column": null,
            "overflow_y": null,
            "overflow_x": null,
            "grid_auto_flow": null,
            "grid_area": null,
            "grid_template_columns": null,
            "flex": null,
            "_model_name": "LayoutModel",
            "justify_items": null,
            "grid_row": null,
            "max_height": null,
            "align_content": null,
            "visibility": null,
            "align_self": null,
            "height": null,
            "min_height": null,
            "padding": null,
            "grid_auto_rows": null,
            "grid_gap": null,
            "max_width": null,
            "order": null,
            "_view_module_version": "1.2.0",
            "grid_template_areas": null,
            "object_position": null,
            "object_fit": null,
            "grid_auto_columns": null,
            "margin": null,
            "display": null,
            "left": null
          }
        },
        "e91f4ce863564cfe83177433aed273d8": {
          "model_module": "@jupyter-widgets/controls",
          "model_name": "IntProgressModel",
          "state": {
            "_view_name": "ProgressView",
            "style": "IPY_MODEL_4c091e4fd48a499f84d204db7f0f114b",
            "_dom_classes": [],
            "description": "100%",
            "_model_name": "IntProgressModel",
            "bar_style": "success",
            "max": 46827520,
            "_view_module": "@jupyter-widgets/controls",
            "_model_module_version": "1.5.0",
            "value": 46827520,
            "_view_count": null,
            "_view_module_version": "1.5.0",
            "orientation": "horizontal",
            "min": 0,
            "description_tooltip": null,
            "_model_module": "@jupyter-widgets/controls",
            "layout": "IPY_MODEL_373f9e64eb514163b67f189b364d0380"
          }
        },
        "3389e0b92b6d41e48d6e376a61a40562": {
          "model_module": "@jupyter-widgets/controls",
          "model_name": "HTMLModel",
          "state": {
            "_view_name": "HTMLView",
            "style": "IPY_MODEL_f74163952c44423088432b22e6ee2414",
            "_dom_classes": [],
            "description": "",
            "_model_name": "HTMLModel",
            "placeholder": "​",
            "_view_module": "@jupyter-widgets/controls",
            "_model_module_version": "1.5.0",
            "value": " 44.7M/44.7M [17:22&lt;00:00, 44.9kB/s]",
            "_view_count": null,
            "_view_module_version": "1.5.0",
            "description_tooltip": null,
            "_model_module": "@jupyter-widgets/controls",
            "layout": "IPY_MODEL_5b39c43081d844ef87abf481f323f9d2"
          }
        },
        "4c091e4fd48a499f84d204db7f0f114b": {
          "model_module": "@jupyter-widgets/controls",
          "model_name": "ProgressStyleModel",
          "state": {
            "_view_name": "StyleView",
            "_model_name": "ProgressStyleModel",
            "description_width": "initial",
            "_view_module": "@jupyter-widgets/base",
            "_model_module_version": "1.5.0",
            "_view_count": null,
            "_view_module_version": "1.2.0",
            "bar_color": null,
            "_model_module": "@jupyter-widgets/controls"
          }
        },
        "373f9e64eb514163b67f189b364d0380": {
          "model_module": "@jupyter-widgets/base",
          "model_name": "LayoutModel",
          "state": {
            "_view_name": "LayoutView",
            "grid_template_rows": null,
            "right": null,
            "justify_content": null,
            "_view_module": "@jupyter-widgets/base",
            "overflow": null,
            "_model_module_version": "1.2.0",
            "_view_count": null,
            "flex_flow": null,
            "width": null,
            "min_width": null,
            "border": null,
            "align_items": null,
            "bottom": null,
            "_model_module": "@jupyter-widgets/base",
            "top": null,
            "grid_column": null,
            "overflow_y": null,
            "overflow_x": null,
            "grid_auto_flow": null,
            "grid_area": null,
            "grid_template_columns": null,
            "flex": null,
            "_model_name": "LayoutModel",
            "justify_items": null,
            "grid_row": null,
            "max_height": null,
            "align_content": null,
            "visibility": null,
            "align_self": null,
            "height": null,
            "min_height": null,
            "padding": null,
            "grid_auto_rows": null,
            "grid_gap": null,
            "max_width": null,
            "order": null,
            "_view_module_version": "1.2.0",
            "grid_template_areas": null,
            "object_position": null,
            "object_fit": null,
            "grid_auto_columns": null,
            "margin": null,
            "display": null,
            "left": null
          }
        },
        "f74163952c44423088432b22e6ee2414": {
          "model_module": "@jupyter-widgets/controls",
          "model_name": "DescriptionStyleModel",
          "state": {
            "_view_name": "StyleView",
            "_model_name": "DescriptionStyleModel",
            "description_width": "",
            "_view_module": "@jupyter-widgets/base",
            "_model_module_version": "1.5.0",
            "_view_count": null,
            "_view_module_version": "1.2.0",
            "_model_module": "@jupyter-widgets/controls"
          }
        },
        "5b39c43081d844ef87abf481f323f9d2": {
          "model_module": "@jupyter-widgets/base",
          "model_name": "LayoutModel",
          "state": {
            "_view_name": "LayoutView",
            "grid_template_rows": null,
            "right": null,
            "justify_content": null,
            "_view_module": "@jupyter-widgets/base",
            "overflow": null,
            "_model_module_version": "1.2.0",
            "_view_count": null,
            "flex_flow": null,
            "width": null,
            "min_width": null,
            "border": null,
            "align_items": null,
            "bottom": null,
            "_model_module": "@jupyter-widgets/base",
            "top": null,
            "grid_column": null,
            "overflow_y": null,
            "overflow_x": null,
            "grid_auto_flow": null,
            "grid_area": null,
            "grid_template_columns": null,
            "flex": null,
            "_model_name": "LayoutModel",
            "justify_items": null,
            "grid_row": null,
            "max_height": null,
            "align_content": null,
            "visibility": null,
            "align_self": null,
            "height": null,
            "min_height": null,
            "padding": null,
            "grid_auto_rows": null,
            "grid_gap": null,
            "max_width": null,
            "order": null,
            "_view_module_version": "1.2.0",
            "grid_template_areas": null,
            "object_position": null,
            "object_fit": null,
            "grid_auto_columns": null,
            "margin": null,
            "display": null,
            "left": null
          }
        }
      }
    }
  },
  "cells": [
    {
      "cell_type": "code",
      "metadata": {
        "id": "y792KkbSzj79",
        "colab_type": "code",
        "outputId": "2b8e7cfb-03e2-4837-e4d7-5ee79d21f2b0",
        "colab": {
          "base_uri": "https://localhost:8080/",
          "height": 474
        }
      },
      "source": [
        "!wget -O images.zip --load-cookies /tmp/cookies.txt \"https://docs.google.com/uc?export=download&confirm=$(wget --quiet --save-cookies /tmp/cookies.txt --keep-session-cookies --no-check-certificate 'https://docs.google.com/uc?export=download&id=1vtO5_FB--urbF09XYoxbSAEQW-yqwoi6' -O- | sed -rn 's/.*confirm=([0-9A-Za-z_]+).*/\\1\\n/p')&id=1vtO5_FB--urbF09XYoxbSAEQW-yqwoi6\" && rm -rf /tmp/cookies.txt\n"
      ],
      "execution_count": 1,
      "outputs": [
        {
          "output_type": "stream",
          "text": [
            "--2020-04-25 16:37:15--  https://docs.google.com/uc?export=download&confirm=oYcw&id=1vtO5_FB--urbF09XYoxbSAEQW-yqwoi6\n",
            "Resolving docs.google.com (docs.google.com)... 74.125.31.101, 74.125.31.100, 74.125.31.113, ...\n",
            "Connecting to docs.google.com (docs.google.com)|74.125.31.101|:443... connected.\n",
            "HTTP request sent, awaiting response... 302 Moved Temporarily\n",
            "Location: https://doc-0s-2k-docs.googleusercontent.com/docs/securesc/5jclit66eh02esi6litsqp8cagus0k8n/jfe4bcnee73ac1p71lgas5qplhvn195e/1587832575000/12463928819926971683/09181448319721161059Z/1vtO5_FB--urbF09XYoxbSAEQW-yqwoi6?e=download [following]\n",
            "--2020-04-25 16:37:16--  https://doc-0s-2k-docs.googleusercontent.com/docs/securesc/5jclit66eh02esi6litsqp8cagus0k8n/jfe4bcnee73ac1p71lgas5qplhvn195e/1587832575000/12463928819926971683/09181448319721161059Z/1vtO5_FB--urbF09XYoxbSAEQW-yqwoi6?e=download\n",
            "Resolving doc-0s-2k-docs.googleusercontent.com (doc-0s-2k-docs.googleusercontent.com)... 64.233.170.132, 2607:f8b0:400c:c0d::84\n",
            "Connecting to doc-0s-2k-docs.googleusercontent.com (doc-0s-2k-docs.googleusercontent.com)|64.233.170.132|:443... connected.\n",
            "HTTP request sent, awaiting response... 302 Found\n",
            "Location: https://docs.google.com/nonceSigner?nonce=ss2fa55629a7g&continue=https://doc-0s-2k-docs.googleusercontent.com/docs/securesc/5jclit66eh02esi6litsqp8cagus0k8n/jfe4bcnee73ac1p71lgas5qplhvn195e/1587832575000/12463928819926971683/09181448319721161059Z/1vtO5_FB--urbF09XYoxbSAEQW-yqwoi6?e%3Ddownload&hash=22or0kooaag4geubdsr9a2s2uecct95e [following]\n",
            "--2020-04-25 16:37:16--  https://docs.google.com/nonceSigner?nonce=ss2fa55629a7g&continue=https://doc-0s-2k-docs.googleusercontent.com/docs/securesc/5jclit66eh02esi6litsqp8cagus0k8n/jfe4bcnee73ac1p71lgas5qplhvn195e/1587832575000/12463928819926971683/09181448319721161059Z/1vtO5_FB--urbF09XYoxbSAEQW-yqwoi6?e%3Ddownload&hash=22or0kooaag4geubdsr9a2s2uecct95e\n",
            "Connecting to docs.google.com (docs.google.com)|74.125.31.101|:443... connected.\n",
            "HTTP request sent, awaiting response... 302 Found\n",
            "Location: https://doc-0s-2k-docs.googleusercontent.com/docs/securesc/5jclit66eh02esi6litsqp8cagus0k8n/jfe4bcnee73ac1p71lgas5qplhvn195e/1587832575000/12463928819926971683/09181448319721161059Z/1vtO5_FB--urbF09XYoxbSAEQW-yqwoi6?e=download&nonce=ss2fa55629a7g&user=09181448319721161059Z&hash=l5f45snmge3lau78bttk8letlr5u4dsp [following]\n",
            "--2020-04-25 16:37:16--  https://doc-0s-2k-docs.googleusercontent.com/docs/securesc/5jclit66eh02esi6litsqp8cagus0k8n/jfe4bcnee73ac1p71lgas5qplhvn195e/1587832575000/12463928819926971683/09181448319721161059Z/1vtO5_FB--urbF09XYoxbSAEQW-yqwoi6?e=download&nonce=ss2fa55629a7g&user=09181448319721161059Z&hash=l5f45snmge3lau78bttk8letlr5u4dsp\n",
            "Connecting to doc-0s-2k-docs.googleusercontent.com (doc-0s-2k-docs.googleusercontent.com)|64.233.170.132|:443... connected.\n",
            "HTTP request sent, awaiting response... 200 OK\n",
            "Length: unspecified [application/zip]\n",
            "Saving to: ‘images.zip’\n",
            "\n",
            "images.zip              [         <=>        ] 192.19M  72.6MB/s    in 2.6s    \n",
            "\n",
            "2020-04-25 16:37:19 (72.6 MB/s) - ‘images.zip’ saved [201531099]\n",
            "\n"
          ],
          "name": "stdout"
        }
      ]
    },
    {
      "cell_type": "code",
      "metadata": {
        "id": "_1Bt6X7qzobc",
        "colab_type": "code",
        "outputId": "2dfe25bd-8c8c-4554-f123-7c71004a54ef",
        "colab": {
          "base_uri": "https://localhost:8080/",
          "height": 474
        }
      },
      "source": [
        "!wget -O train.csv --load-cookies /tmp/cookies.txt \"https://docs.google.com/uc?export=download&confirm=$(wget --quiet --save-cookies /tmp/cookies.txt --keep-session-cookies --no-check-certificate 'https://docs.google.com/uc?export=download&id=1XQ-RfUG1C_6LUZdRUe9nAU77I_AZFH-F' -O- | sed -rn 's/.*confirm=([0-9A-Za-z_]+).*/\\1\\n/p')&id=1XQ-RfUG1C_6LUZdRUe9nAU77I_AZFH-F\" && rm -rf /tmp/cookies.txt"
      ],
      "execution_count": 2,
      "outputs": [
        {
          "output_type": "stream",
          "text": [
            "--2020-04-25 16:38:25--  https://docs.google.com/uc?export=download&confirm=&id=1XQ-RfUG1C_6LUZdRUe9nAU77I_AZFH-F\n",
            "Resolving docs.google.com (docs.google.com)... 74.125.31.101, 74.125.31.100, 74.125.31.113, ...\n",
            "Connecting to docs.google.com (docs.google.com)|74.125.31.101|:443... connected.\n",
            "HTTP request sent, awaiting response... 302 Moved Temporarily\n",
            "Location: https://doc-0c-1o-docs.googleusercontent.com/docs/securesc/quf5fscvi41ghdee9521m432vu50gaen/7dn6ni18l3i8gran96plvv6mnit2k2ke/1587832650000/12463928819926971683/02590963214939901350Z/1XQ-RfUG1C_6LUZdRUe9nAU77I_AZFH-F?e=download [following]\n",
            "--2020-04-25 16:38:25--  https://doc-0c-1o-docs.googleusercontent.com/docs/securesc/quf5fscvi41ghdee9521m432vu50gaen/7dn6ni18l3i8gran96plvv6mnit2k2ke/1587832650000/12463928819926971683/02590963214939901350Z/1XQ-RfUG1C_6LUZdRUe9nAU77I_AZFH-F?e=download\n",
            "Resolving doc-0c-1o-docs.googleusercontent.com (doc-0c-1o-docs.googleusercontent.com)... 64.233.170.132, 2607:f8b0:400c:c0d::84\n",
            "Connecting to doc-0c-1o-docs.googleusercontent.com (doc-0c-1o-docs.googleusercontent.com)|64.233.170.132|:443... connected.\n",
            "HTTP request sent, awaiting response... 302 Found\n",
            "Location: https://docs.google.com/nonceSigner?nonce=k0s4la616aaqe&continue=https://doc-0c-1o-docs.googleusercontent.com/docs/securesc/quf5fscvi41ghdee9521m432vu50gaen/7dn6ni18l3i8gran96plvv6mnit2k2ke/1587832650000/12463928819926971683/02590963214939901350Z/1XQ-RfUG1C_6LUZdRUe9nAU77I_AZFH-F?e%3Ddownload&hash=1tlbs5r46lfuik729kncseub3fj0gibn [following]\n",
            "--2020-04-25 16:38:25--  https://docs.google.com/nonceSigner?nonce=k0s4la616aaqe&continue=https://doc-0c-1o-docs.googleusercontent.com/docs/securesc/quf5fscvi41ghdee9521m432vu50gaen/7dn6ni18l3i8gran96plvv6mnit2k2ke/1587832650000/12463928819926971683/02590963214939901350Z/1XQ-RfUG1C_6LUZdRUe9nAU77I_AZFH-F?e%3Ddownload&hash=1tlbs5r46lfuik729kncseub3fj0gibn\n",
            "Connecting to docs.google.com (docs.google.com)|74.125.31.101|:443... connected.\n",
            "HTTP request sent, awaiting response... 302 Found\n",
            "Location: https://doc-0c-1o-docs.googleusercontent.com/docs/securesc/quf5fscvi41ghdee9521m432vu50gaen/7dn6ni18l3i8gran96plvv6mnit2k2ke/1587832650000/12463928819926971683/02590963214939901350Z/1XQ-RfUG1C_6LUZdRUe9nAU77I_AZFH-F?e=download&nonce=k0s4la616aaqe&user=02590963214939901350Z&hash=3b1amiksc0pq3q205n2j76ja22vhbds2 [following]\n",
            "--2020-04-25 16:38:25--  https://doc-0c-1o-docs.googleusercontent.com/docs/securesc/quf5fscvi41ghdee9521m432vu50gaen/7dn6ni18l3i8gran96plvv6mnit2k2ke/1587832650000/12463928819926971683/02590963214939901350Z/1XQ-RfUG1C_6LUZdRUe9nAU77I_AZFH-F?e=download&nonce=k0s4la616aaqe&user=02590963214939901350Z&hash=3b1amiksc0pq3q205n2j76ja22vhbds2\n",
            "Connecting to doc-0c-1o-docs.googleusercontent.com (doc-0c-1o-docs.googleusercontent.com)|64.233.170.132|:443... connected.\n",
            "HTTP request sent, awaiting response... 200 OK\n",
            "Length: 48423 (47K) [text/csv]\n",
            "Saving to: ‘train.csv’\n",
            "\n",
            "\rtrain.csv             0%[                    ]       0  --.-KB/s               \rtrain.csv           100%[===================>]  47.29K  --.-KB/s    in 0.001s  \n",
            "\n",
            "2020-04-25 16:38:25 (80.2 MB/s) - ‘train.csv’ saved [48423/48423]\n",
            "\n"
          ],
          "name": "stdout"
        }
      ]
    },
    {
      "cell_type": "code",
      "metadata": {
        "id": "_gm-mt3_zoq0",
        "colab_type": "code",
        "colab": {}
      },
      "source": [
        "!unzip -qq -n images.zip"
      ],
      "execution_count": 0,
      "outputs": []
    },
    {
      "cell_type": "code",
      "metadata": {
        "id": "7689B33WBYrm",
        "colab_type": "code",
        "colab": {}
      },
      "source": [
        "import pandas as pd\n",
        "import os"
      ],
      "execution_count": 0,
      "outputs": []
    },
    {
      "cell_type": "code",
      "metadata": {
        "id": "1r4uZzYizoum",
        "colab_type": "code",
        "colab": {}
      },
      "source": [
        "train = pd.read_csv('/content/sample_data/all_data/train.csv')\n",
        "\n",
        "train_images_list = train['image'].tolist()\n",
        "\n",
        "images_list = os.listdir(\"/content/sample_data/all_data/images\")\n",
        "\n",
        "test_images_list = [fn for fn in images_list if fn not in train_images_list]"
      ],
      "execution_count": 0,
      "outputs": []
    },
    {
      "cell_type": "code",
      "metadata": {
        "id": "9CG3XxsKzo0P",
        "colab_type": "code",
        "colab": {}
      },
      "source": [
        "from pathlib import Path\n",
        "\n",
        "from fastai.basic_data import DatasetType\n",
        "from fastai.callbacks import SaveModelCallback\n",
        "from fastai.metrics import accuracy\n",
        "from fastai.train import ClassificationInterpretation\n",
        "from fastai.vision.data import ImageList\n",
        "from fastai.vision.learner import cnn_learner\n",
        "from fastai.vision.models import resnet18\n",
        "from fastai.vision.transform import ResizeMethod, get_transforms\n",
        "from fastai.vision import imagenet_stats\n",
        "\n",
        "import pandas as pd"
      ],
      "execution_count": 0,
      "outputs": []
    },
    {
      "cell_type": "code",
      "metadata": {
        "id": "vjoEemUq0EGj",
        "colab_type": "code",
        "colab": {}
      },
      "source": [
        "path = Path('/content/sample_data/all_data')\n",
        "il = ImageList.from_csv(path, 'train.csv', folder='images')\n",
        "sd = il.split_by_rand_pct(0.15)\n",
        "ll = sd.label_from_df()\n",
        "ll = ll.transform(get_transforms(), size=224)\n",
        "data = ll.databunch(bs=64).normalize(imagenet_stats)"
      ],
      "execution_count": 0,
      "outputs": []
    },
    {
      "cell_type": "code",
      "metadata": {
        "id": "AqfWkhSq0ERH",
        "colab_type": "code",
        "outputId": "d69704fb-6c68-4bb8-d988-d19dd8f76dc4",
        "colab": {
          "base_uri": "https://localhost:8080/",
          "height": 198
        }
      },
      "source": [
        "import csv\n",
        "# Check to see if sample_sub_v2.csv is downloaded\n",
        "test_csv2 = pd.read_csv('/content/sample_data/all_data/sample_sub_v2.csv')\n",
        "test_csv2.head()"
      ],
      "execution_count": 10,
      "outputs": [
        {
          "output_type": "execute_result",
          "data": {
            "text/html": [
              "<div>\n",
              "<style scoped>\n",
              "    .dataframe tbody tr th:only-of-type {\n",
              "        vertical-align: middle;\n",
              "    }\n",
              "\n",
              "    .dataframe tbody tr th {\n",
              "        vertical-align: top;\n",
              "    }\n",
              "\n",
              "    .dataframe thead th {\n",
              "        text-align: right;\n",
              "    }\n",
              "</style>\n",
              "<table border=\"1\" class=\"dataframe\">\n",
              "  <thead>\n",
              "    <tr style=\"text-align: right;\">\n",
              "      <th></th>\n",
              "      <th>image</th>\n",
              "      <th>target</th>\n",
              "    </tr>\n",
              "  </thead>\n",
              "  <tbody>\n",
              "    <tr>\n",
              "      <th>0</th>\n",
              "      <td>aadawlxbmapqrblgxyzarhjasgiobu.png</td>\n",
              "      <td>0</td>\n",
              "    </tr>\n",
              "    <tr>\n",
              "      <th>1</th>\n",
              "      <td>abpxvdfyhaaohzcrngcucmhffwizxs.jpg</td>\n",
              "      <td>0</td>\n",
              "    </tr>\n",
              "    <tr>\n",
              "      <th>2</th>\n",
              "      <td>aclkjfvackiieiznzfcwienplielrj.jpg</td>\n",
              "      <td>0</td>\n",
              "    </tr>\n",
              "    <tr>\n",
              "      <th>3</th>\n",
              "      <td>aelkivmayxgsdjosiibfgmkvfrjvjk.jpg</td>\n",
              "      <td>0</td>\n",
              "    </tr>\n",
              "    <tr>\n",
              "      <th>4</th>\n",
              "      <td>aelzzshpfxerelefnkatpczktuxjln.jpg</td>\n",
              "      <td>0</td>\n",
              "    </tr>\n",
              "  </tbody>\n",
              "</table>\n",
              "</div>"
            ],
            "text/plain": [
              "                                image  target\n",
              "0  aadawlxbmapqrblgxyzarhjasgiobu.png       0\n",
              "1  abpxvdfyhaaohzcrngcucmhffwizxs.jpg       0\n",
              "2  aclkjfvackiieiznzfcwienplielrj.jpg       0\n",
              "3  aelkivmayxgsdjosiibfgmkvfrjvjk.jpg       0\n",
              "4  aelzzshpfxerelefnkatpczktuxjln.jpg       0"
            ]
          },
          "metadata": {
            "tags": []
          },
          "execution_count": 10
        }
      ]
    },
    {
      "cell_type": "code",
      "metadata": {
        "id": "SjjZ1a6e0EXp",
        "colab_type": "code",
        "colab": {}
      },
      "source": [
        "test = (ImageList.from_csv(path, 'sample_sub_v2.csv', folder='images'))\n",
        "data.add_test(test)"
      ],
      "execution_count": 0,
      "outputs": []
    },
    {
      "cell_type": "code",
      "metadata": {
        "id": "27dnSLvh0Ecc",
        "colab_type": "code",
        "outputId": "5821f39e-9682-4650-f846-58c91fa245a6",
        "colab": {
          "base_uri": "https://localhost:8080/",
          "height": 105,
          "referenced_widgets": [
            "3efd4ed4ad6b48b5843d9b4d111d83e6",
            "eff3d338dfc546cb9a50aa1b5c7ec8e9",
            "e91f4ce863564cfe83177433aed273d8",
            "3389e0b92b6d41e48d6e376a61a40562",
            "4c091e4fd48a499f84d204db7f0f114b",
            "373f9e64eb514163b67f189b364d0380",
            "f74163952c44423088432b22e6ee2414",
            "5b39c43081d844ef87abf481f323f9d2"
          ]
        }
      },
      "source": [
        "learn = cnn_learner(data, resnet18, metrics=accuracy)"
      ],
      "execution_count": 12,
      "outputs": [
        {
          "output_type": "stream",
          "text": [
            "Downloading: \"https://download.pytorch.org/models/resnet18-5c106cde.pth\" to /root/.cache/torch/checkpoints/resnet18-5c106cde.pth\n"
          ],
          "name": "stderr"
        },
        {
          "output_type": "display_data",
          "data": {
            "application/vnd.jupyter.widget-view+json": {
              "model_id": "3efd4ed4ad6b48b5843d9b4d111d83e6",
              "version_minor": 0,
              "version_major": 2
            },
            "text/plain": [
              "HBox(children=(IntProgress(value=0, max=46827520), HTML(value='')))"
            ]
          },
          "metadata": {
            "tags": []
          }
        },
        {
          "output_type": "stream",
          "text": [
            "\n"
          ],
          "name": "stdout"
        }
      ]
    },
    {
      "cell_type": "code",
      "metadata": {
        "id": "AXajhIHA0Ekm",
        "colab_type": "code",
        "outputId": "283f7230-2cde-4734-eb23-70367535676f",
        "colab": {
          "base_uri": "https://localhost:8080/",
          "height": 524
        }
      },
      "source": [
        "learn.lr_find()\n",
        "learn.recorder.plot()"
      ],
      "execution_count": 13,
      "outputs": [
        {
          "output_type": "display_data",
          "data": {
            "text/html": [
              "\n",
              "    <div>\n",
              "        <style>\n",
              "            /* Turns off some styling */\n",
              "            progress {\n",
              "                /* gets rid of default border in Firefox and Opera. */\n",
              "                border: none;\n",
              "                /* Needs to be in here for Safari polyfill so background images work as expected. */\n",
              "                background-size: auto;\n",
              "            }\n",
              "            .progress-bar-interrupted, .progress-bar-interrupted::-webkit-progress-bar {\n",
              "                background: #F44336;\n",
              "            }\n",
              "        </style>\n",
              "      <progress value='5' class='' max='6' style='width:300px; height:20px; vertical-align: middle;'></progress>\n",
              "      83.33% [5/6 16:21<03:16]\n",
              "    </div>\n",
              "    \n",
              "<table border=\"1\" class=\"dataframe\">\n",
              "  <thead>\n",
              "    <tr style=\"text-align: left;\">\n",
              "      <th>epoch</th>\n",
              "      <th>train_loss</th>\n",
              "      <th>valid_loss</th>\n",
              "      <th>accuracy</th>\n",
              "      <th>time</th>\n",
              "    </tr>\n",
              "  </thead>\n",
              "  <tbody>\n",
              "    <tr>\n",
              "      <td>0</td>\n",
              "      <td>1.137933</td>\n",
              "      <td>#na#</td>\n",
              "      <td>03:16</td>\n",
              "    </tr>\n",
              "    <tr>\n",
              "      <td>1</td>\n",
              "      <td>1.069586</td>\n",
              "      <td>#na#</td>\n",
              "      <td>03:15</td>\n",
              "    </tr>\n",
              "    <tr>\n",
              "      <td>2</td>\n",
              "      <td>0.886893</td>\n",
              "      <td>#na#</td>\n",
              "      <td>03:15</td>\n",
              "    </tr>\n",
              "    <tr>\n",
              "      <td>3</td>\n",
              "      <td>0.632407</td>\n",
              "      <td>#na#</td>\n",
              "      <td>03:17</td>\n",
              "    </tr>\n",
              "    <tr>\n",
              "      <td>4</td>\n",
              "      <td>1.140216</td>\n",
              "      <td>#na#</td>\n",
              "      <td>03:16</td>\n",
              "    </tr>\n",
              "  </tbody>\n",
              "</table><p>\n",
              "\n",
              "    <div>\n",
              "        <style>\n",
              "            /* Turns off some styling */\n",
              "            progress {\n",
              "                /* gets rid of default border in Firefox and Opera. */\n",
              "                border: none;\n",
              "                /* Needs to be in here for Safari polyfill so background images work as expected. */\n",
              "                background-size: auto;\n",
              "            }\n",
              "            .progress-bar-interrupted, .progress-bar-interrupted::-webkit-progress-bar {\n",
              "                background: #F44336;\n",
              "            }\n",
              "        </style>\n",
              "      <progress value='3' class='' max='17' style='width:300px; height:20px; vertical-align: middle;'></progress>\n",
              "      17.65% [3/17 00:40<03:07 1.9567]\n",
              "    </div>\n",
              "    "
            ],
            "text/plain": [
              "<IPython.core.display.HTML object>"
            ]
          },
          "metadata": {
            "tags": []
          }
        },
        {
          "output_type": "stream",
          "text": [
            "LR Finder is complete, type {learner_name}.recorder.plot() to see the graph.\n"
          ],
          "name": "stdout"
        },
        {
          "output_type": "display_data",
          "data": {
            "image/png": "[encoded data removed]",
            "text/plain": [
              "<Figure size 432x288 with 1 Axes>"
            ]
          },
          "metadata": {
            "tags": [],
            "needs_background": "light"
          }
        }
      ]
    },
    {
      "cell_type": "code",
      "metadata": {
        "id": "ANT2euBY2NXq",
        "colab_type": "code",
        "colab": {}
      },
      "source": [
        "lr = 1e-02"
      ],
      "execution_count": 0,
      "outputs": []
    },
    {
      "cell_type": "code",
      "metadata": {
        "id": "NX4zmROn5qr-",
        "colab_type": "code",
        "outputId": "b1f377a8-be6f-4a58-a1f2-f6d4640bdedc",
        "colab": {
          "base_uri": "https://localhost:8080/",
          "height": 138
        }
      },
      "source": [
        "learn.fit_one_cycle(3, lr)"
      ],
      "execution_count": 15,
      "outputs": [
        {
          "output_type": "display_data",
          "data": {
            "text/html": [
              "<table border=\"1\" class=\"dataframe\">\n",
              "  <thead>\n",
              "    <tr style=\"text-align: left;\">\n",
              "      <th>epoch</th>\n",
              "      <th>train_loss</th>\n",
              "      <th>valid_loss</th>\n",
              "      <th>accuracy</th>\n",
              "      <th>time</th>\n",
              "    </tr>\n",
              "  </thead>\n",
              "  <tbody>\n",
              "    <tr>\n",
              "      <td>0</td>\n",
              "      <td>0.411958</td>\n",
              "      <td>0.650550</td>\n",
              "      <td>0.923469</td>\n",
              "      <td>03:36</td>\n",
              "    </tr>\n",
              "    <tr>\n",
              "      <td>1</td>\n",
              "      <td>0.360909</td>\n",
              "      <td>0.193048</td>\n",
              "      <td>0.954082</td>\n",
              "      <td>03:35</td>\n",
              "    </tr>\n",
              "    <tr>\n",
              "      <td>2</td>\n",
              "      <td>0.246247</td>\n",
              "      <td>0.156051</td>\n",
              "      <td>0.943878</td>\n",
              "      <td>03:35</td>\n",
              "    </tr>\n",
              "  </tbody>\n",
              "</table>"
            ],
            "text/plain": [
              "<IPython.core.display.HTML object>"
            ]
          },
          "metadata": {
            "tags": []
          }
        }
      ]
    },
    {
      "cell_type": "code",
      "metadata": {
        "id": "UVtE2wsL2NjK",
        "colab_type": "code",
        "outputId": "d79e7ac7-ab9b-4f31-a166-23aac2e76e3e",
        "colab": {
          "base_uri": "https://localhost:8080/",
          "height": 17
        }
      },
      "source": [
        "preds, y = learn.get_preds(DatasetType.Test)"
      ],
      "execution_count": 16,
      "outputs": [
        {
          "output_type": "display_data",
          "data": {
            "text/html": [
              ""
            ],
            "text/plain": [
              "<IPython.core.display.HTML object>"
            ]
          },
          "metadata": {
            "tags": []
          }
        }
      ]
    },
    {
      "cell_type": "code",
      "metadata": {
        "id": "N4Vk4vH22Nra",
        "colab_type": "code",
        "colab": {}
      },
      "source": [
        "pred = preds[:, 1]"
      ],
      "execution_count": 0,
      "outputs": []
    },
    {
      "cell_type": "code",
      "metadata": {
        "id": "pMv-AUWv2NwE",
        "colab_type": "code",
        "colab": {}
      },
      "source": [
        "list_test = test_csv2['image'].tolist()"
      ],
      "execution_count": 0,
      "outputs": []
    },
    {
      "cell_type": "code",
      "metadata": {
        "id": "utjFMAJkIpk4",
        "colab_type": "code",
        "colab": {}
      },
      "source": [
        "subm = pd.DataFrame({'image': list_test, 'target': pred})"
      ],
      "execution_count": 0,
      "outputs": []
    },
    {
      "cell_type": "code",
      "metadata": {
        "id": "HvyTdsMlIp3_",
        "colab_type": "code",
        "colab": {}
      },
      "source": [
        "subm.to_csv('submit.csv', index=None)"
      ],
      "execution_count": 0,
      "outputs": []
    },
    {
      "cell_type": "code",
      "metadata": {
        "id": "N4g4JMqlIqAi",
        "colab_type": "code",
        "colab": {}
      },
      "source": [
        "from google.colab import files\n",
        "\n",
        "files.download('submit.csv')"
      ],
      "execution_count": 0,
      "outputs": []
    },
    {
      "cell_type": "code",
      "metadata": {
        "id": "BEsj61KMIqGI",
        "colab_type": "code",
        "colab": {}
      },
      "source": [
        ""
      ],
      "execution_count": 0,
      "outputs": []
    },
    {
      "cell_type": "code",
      "metadata": {
        "id": "7M0cIoVMIqNn",
        "colab_type": "code",
        "colab": {}
      },
      "source": [
        ""
      ],
      "execution_count": 0,
      "outputs": []
    }
  ]
}